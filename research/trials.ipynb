{
 "cells": [
  {
   "cell_type": "code",
   "execution_count": 7,
   "metadata": {},
   "outputs": [
    {
     "name": "stdout",
     "output_type": "stream",
     "text": [
      "Check\n"
     ]
    }
   ],
   "source": [
    "print(\"Check\")"
   ]
  },
  {
   "cell_type": "code",
   "execution_count": 8,
   "metadata": {},
   "outputs": [
    {
     "data": {
      "text/plain": [
       "'c:\\\\Users\\\\Abdul Ghaffar Ansari\\\\Desktop\\\\MLOPS\\\\Virtual-Care-Assistant\\\\research'"
      ]
     },
     "execution_count": 8,
     "metadata": {},
     "output_type": "execute_result"
    }
   ],
   "source": [
    "%pwd"
   ]
  },
  {
   "cell_type": "code",
   "execution_count": 9,
   "metadata": {},
   "outputs": [
    {
     "data": {
      "text/plain": [
       "'c:\\\\Users\\\\Abdul Ghaffar Ansari\\\\Desktop\\\\MLOPS\\\\Virtual-Care-Assistant'"
      ]
     },
     "execution_count": 9,
     "metadata": {},
     "output_type": "execute_result"
    }
   ],
   "source": [
    "import os\n",
    "os.chdir(\"../\")\n",
    "%pwd"
   ]
  },
  {
   "cell_type": "code",
   "execution_count": 10,
   "metadata": {},
   "outputs": [],
   "source": [
    "from langchain.document_loaders import PyPDFLoader, DirectoryLoader\n",
    "from langchain.text_splitter import RecursiveCharacterTextSplitter"
   ]
  },
  {
   "cell_type": "code",
   "execution_count": 11,
   "metadata": {},
   "outputs": [],
   "source": [
    "#Extract Data From the PDF File\n",
    "def load_pdf_file(data):\n",
    "    loader= DirectoryLoader(data,\n",
    "                            glob=\"*.pdf\",\n",
    "                            loader_cls=PyPDFLoader)\n",
    "\n",
    "    documents=loader.load()\n",
    "\n",
    "    return documents\n",
    "extracted_data=load_pdf_file(data='Data/')"
   ]
  },
  {
   "cell_type": "code",
   "execution_count": 16,
   "metadata": {},
   "outputs": [
    {
     "name": "stdout",
     "output_type": "stream",
     "text": [
      "Length of Text Chunks 5860\n"
     ]
    }
   ],
   "source": [
    "#Split the Data into Text Chunks\n",
    "def text_split(extracted_data):\n",
    "    text_splitter=RecursiveCharacterTextSplitter(chunk_size=500, chunk_overlap=20)\n",
    "    text_chunks=text_splitter.split_documents(extracted_data)\n",
    "    return text_chunks\n",
    "\n",
    "\n",
    "text_chunks=text_split(extracted_data)\n",
    "print(\"Length of Text Chunks\", len(text_chunks))"
   ]
  },
  {
   "cell_type": "code",
   "execution_count": null,
   "metadata": {},
   "outputs": [
    {
     "name": "stdout",
     "output_type": "stream",
     "text": [
      "Requirement already satisfied: sentence-transformers in c:\\analconda\\lib\\site-packages (2.2.2)\n",
      "Requirement already satisfied: transformers<5.0.0,>=4.6.0 in c:\\analconda\\lib\\site-packages (from sentence-transformers) (4.47.0)\n",
      "Requirement already satisfied: tqdm in c:\\analconda\\lib\\site-packages (from sentence-transformers) (4.66.5)\n",
      "Requirement already satisfied: torch>=1.6.0 in c:\\analconda\\lib\\site-packages (from sentence-transformers) (2.5.1)\n",
      "Requirement already satisfied: torchvision in c:\\analconda\\lib\\site-packages (from sentence-transformers) (0.20.1)\n",
      "Requirement already satisfied: numpy in c:\\analconda\\lib\\site-packages (from sentence-transformers) (1.26.4)\n",
      "Requirement already satisfied: scikit-learn in c:\\analconda\\lib\\site-packages (from sentence-transformers) (1.4.2)\n",
      "Requirement already satisfied: scipy in c:\\analconda\\lib\\site-packages (from sentence-transformers) (1.13.1)\n",
      "Requirement already satisfied: nltk in c:\\analconda\\lib\\site-packages (from sentence-transformers) (3.9.1)\n",
      "Requirement already satisfied: sentencepiece in c:\\analconda\\lib\\site-packages (from sentence-transformers) (0.2.0)\n",
      "Requirement already satisfied: huggingface-hub>=0.4.0 in c:\\analconda\\lib\\site-packages (from sentence-transformers) (0.26.3)\n",
      "Requirement already satisfied: filelock in c:\\analconda\\lib\\site-packages (from huggingface-hub>=0.4.0->sentence-transformers) (3.13.1)\n",
      "Requirement already satisfied: fsspec>=2023.5.0 in c:\\analconda\\lib\\site-packages (from huggingface-hub>=0.4.0->sentence-transformers) (2023.6.0)\n",
      "Requirement already satisfied: packaging>=20.9 in c:\\analconda\\lib\\site-packages (from huggingface-hub>=0.4.0->sentence-transformers) (24.1)\n",
      "Requirement already satisfied: pyyaml>=5.1 in c:\\analconda\\lib\\site-packages (from huggingface-hub>=0.4.0->sentence-transformers) (6.0.2)\n",
      "Requirement already satisfied: requests in c:\\analconda\\lib\\site-packages (from huggingface-hub>=0.4.0->sentence-transformers) (2.32.3)\n",
      "Requirement already satisfied: typing-extensions>=3.7.4.3 in c:\\analconda\\lib\\site-packages (from huggingface-hub>=0.4.0->sentence-transformers) (4.12.2)\n",
      "Requirement already satisfied: networkx in c:\\analconda\\lib\\site-packages (from torch>=1.6.0->sentence-transformers) (3.3)\n",
      "Requirement already satisfied: jinja2 in c:\\analconda\\lib\\site-packages (from torch>=1.6.0->sentence-transformers) (3.1.2)\n",
      "Requirement already satisfied: sympy==1.13.1 in c:\\analconda\\lib\\site-packages (from torch>=1.6.0->sentence-transformers) (1.13.1)\n",
      "Requirement already satisfied: mpmath<1.4,>=1.1.0 in c:\\analconda\\lib\\site-packages (from sympy==1.13.1->torch>=1.6.0->sentence-transformers) (1.3.0)\n",
      "Requirement already satisfied: colorama in c:\\analconda\\lib\\site-packages (from tqdm->sentence-transformers) (0.4.6)\n",
      "Requirement already satisfied: regex!=2019.12.17 in c:\\analconda\\lib\\site-packages (from transformers<5.0.0,>=4.6.0->sentence-transformers) (2024.9.11)\n",
      "Requirement already satisfied: tokenizers<0.22,>=0.21 in c:\\analconda\\lib\\site-packages (from transformers<5.0.0,>=4.6.0->sentence-transformers) (0.21.0)\n",
      "Requirement already satisfied: safetensors>=0.4.1 in c:\\analconda\\lib\\site-packages (from transformers<5.0.0,>=4.6.0->sentence-transformers) (0.4.5)\n",
      "Requirement already satisfied: click in c:\\analconda\\lib\\site-packages (from nltk->sentence-transformers) (8.1.7)\n",
      "Requirement already satisfied: joblib in c:\\analconda\\lib\\site-packages (from nltk->sentence-transformers) (1.4.2)\n",
      "Requirement already satisfied: threadpoolctl>=2.0.0 in c:\\analconda\\lib\\site-packages (from scikit-learn->sentence-transformers) (2.2.0)\n",
      "Requirement already satisfied: pillow!=8.3.*,>=5.3.0 in c:\\analconda\\lib\\site-packages (from torchvision->sentence-transformers) (11.0.0)\n",
      "Requirement already satisfied: MarkupSafe>=2.0 in c:\\analconda\\lib\\site-packages (from jinja2->torch>=1.6.0->sentence-transformers) (2.1.3)\n",
      "Requirement already satisfied: charset-normalizer<4,>=2 in c:\\analconda\\lib\\site-packages (from requests->huggingface-hub>=0.4.0->sentence-transformers) (2.0.4)\n",
      "Requirement already satisfied: idna<4,>=2.5 in c:\\analconda\\lib\\site-packages (from requests->huggingface-hub>=0.4.0->sentence-transformers) (3.7)\n",
      "Requirement already satisfied: urllib3<3,>=1.21.1 in c:\\analconda\\lib\\site-packages (from requests->huggingface-hub>=0.4.0->sentence-transformers) (1.26.20)\n",
      "Requirement already satisfied: certifi>=2017.4.17 in c:\\analconda\\lib\\site-packages (from requests->huggingface-hub>=0.4.0->sentence-transformers) (2024.8.30)\n"
     ]
    }
   ],
   "source": [
    "# !pip install sentence-transformers"
   ]
  },
  {
   "cell_type": "code",
   "execution_count": 20,
   "metadata": {},
   "outputs": [],
   "source": [
    "from langchain.embeddings import HuggingFaceEmbeddings"
   ]
  },
  {
   "cell_type": "code",
   "execution_count": 25,
   "metadata": {},
   "outputs": [],
   "source": [
    "#Download the Embeddings from Hugging Face\n",
    "def download_hugging_face_embeddings():\n",
    "    embeddings=HuggingFaceEmbeddings(model_name='sentence-transformers/all-MiniLM-L6-v2')\n",
    "    return embeddings\n",
    "\n",
    "\n",
    "embeddings = download_hugging_face_embeddings()"
   ]
  },
  {
   "cell_type": "code",
   "execution_count": 26,
   "metadata": {},
   "outputs": [
    {
     "name": "stdout",
     "output_type": "stream",
     "text": [
      "Length 384\n"
     ]
    },
    {
     "data": {
      "text/plain": [
       "[-0.03447723761200905,\n",
       " 0.031023213639855385,\n",
       " 0.006734990980476141,\n",
       " 0.02610895223915577,\n",
       " -0.03936200216412544,\n",
       " -0.16030248999595642,\n",
       " 0.06692393124103546,\n",
       " -0.006441502831876278,\n",
       " -0.04745049029588699,\n",
       " 0.014758865348994732,\n",
       " 0.07087529450654984,\n",
       " 0.05552753433585167,\n",
       " 0.019193345680832863,\n",
       " -0.026251327246427536,\n",
       " -0.010109513066709042,\n",
       " -0.026940496638417244,\n",
       " 0.022307435050606728,\n",
       " -0.022226642817258835,\n",
       " -0.1496925801038742,\n",
       " -0.01749304123222828,\n",
       " 0.007676258217543364,\n",
       " 0.05435232073068619,\n",
       " 0.0032544711139053106,\n",
       " 0.031725890934467316,\n",
       " -0.0846213549375534,\n",
       " -0.029405983164906502,\n",
       " 0.05159558728337288,\n",
       " 0.04812406003475189,\n",
       " -0.0033148040529340506,\n",
       " -0.05827920883893967,\n",
       " 0.04196924716234207,\n",
       " 0.022210638970136642,\n",
       " 0.1281888484954834,\n",
       " -0.022338991984725,\n",
       " -0.011656233109533787,\n",
       " 0.06292837113142014,\n",
       " -0.03287629410624504,\n",
       " -0.09122603386640549,\n",
       " -0.031175388023257256,\n",
       " 0.052699580788612366,\n",
       " 0.0470348484814167,\n",
       " -0.08420310914516449,\n",
       " -0.030056176707148552,\n",
       " -0.020744847133755684,\n",
       " 0.009517889469861984,\n",
       " -0.00372184906154871,\n",
       " 0.0073433006182312965,\n",
       " 0.0393243134021759,\n",
       " 0.09327401965856552,\n",
       " -0.0037885885685682297,\n",
       " -0.05274209380149841,\n",
       " -0.05805818736553192,\n",
       " -0.006864405702799559,\n",
       " 0.005283272825181484,\n",
       " 0.082893006503582,\n",
       " 0.0193627942353487,\n",
       " 0.006284557748585939,\n",
       " -0.0103307468816638,\n",
       " 0.009032361209392548,\n",
       " -0.03768371418118477,\n",
       " -0.045206062495708466,\n",
       " 0.024016302078962326,\n",
       " -0.0069441357627511024,\n",
       " 0.013491638004779816,\n",
       " 0.10005494207143784,\n",
       " -0.07168391346931458,\n",
       " -0.021695079281926155,\n",
       " 0.031618472188711166,\n",
       " -0.051634665578603745,\n",
       " -0.08224768191576004,\n",
       " -0.06569333374500275,\n",
       " -0.009895358234643936,\n",
       " 0.005816414020955563,\n",
       " 0.07355459034442902,\n",
       " -0.03405032306909561,\n",
       " 0.024886099621653557,\n",
       " 0.014488086104393005,\n",
       " 0.026457402855157852,\n",
       " 0.009656715206801891,\n",
       " 0.030217245221138,\n",
       " 0.05280398577451706,\n",
       " -0.07535985857248306,\n",
       " 0.009897198528051376,\n",
       " 0.029836829751729965,\n",
       " 0.01755557395517826,\n",
       " 0.02309197373688221,\n",
       " 0.0019338536076247692,\n",
       " 0.0014002128737047315,\n",
       " -0.047175947576761246,\n",
       " -0.011194308288395405,\n",
       " -0.11420140415430069,\n",
       " -0.019811980426311493,\n",
       " 0.04026621952652931,\n",
       " 0.0021930187940597534,\n",
       " -0.07979223877191544,\n",
       " -0.02538231946527958,\n",
       " 0.09448294341564178,\n",
       " -0.028981104493141174,\n",
       " -0.1450025886297226,\n",
       " 0.23097741603851318,\n",
       " 0.027731159701943398,\n",
       " 0.03211148455739021,\n",
       " 0.03106498531997204,\n",
       " 0.04283284395933151,\n",
       " 0.06423775851726532,\n",
       " 0.03216317296028137,\n",
       " -0.004876730032265186,\n",
       " 0.05569944530725479,\n",
       " -0.03753240033984184,\n",
       " -0.021505508571863174,\n",
       " -0.02834264002740383,\n",
       " -0.02884693257510662,\n",
       " 0.03835306689143181,\n",
       " -0.01746867038309574,\n",
       " 0.052485302090644836,\n",
       " -0.07487607002258301,\n",
       " -0.03125975653529167,\n",
       " 0.021841539070010185,\n",
       " -0.0398956723511219,\n",
       " -0.008587092161178589,\n",
       " 0.026956632733345032,\n",
       " -0.04849546030163765,\n",
       " 0.011469852179288864,\n",
       " 0.029618216678500175,\n",
       " -0.020572137087583542,\n",
       " 0.013103872537612915,\n",
       " 0.02883348986506462,\n",
       " -3.194199819506188e-33,\n",
       " 0.06478215008974075,\n",
       " -0.01813017949461937,\n",
       " 0.05178995802998543,\n",
       " 0.12198273837566376,\n",
       " 0.028780125081539154,\n",
       " 0.008721998892724514,\n",
       " -0.07052116096019745,\n",
       " -0.01690729148685932,\n",
       " 0.04073970764875412,\n",
       " 0.0421162024140358,\n",
       " 0.02544722892343998,\n",
       " 0.035746265202760696,\n",
       " -0.049144770950078964,\n",
       " 0.00212904647924006,\n",
       " -0.015546578913927078,\n",
       " 0.05073059722781181,\n",
       " -0.0481853112578392,\n",
       " 0.03588059917092323,\n",
       " -0.004067071247845888,\n",
       " 0.10172471404075623,\n",
       " -0.05597006529569626,\n",
       " -0.010681072250008583,\n",
       " 0.011235734447836876,\n",
       " 0.09068656712770462,\n",
       " 0.004234452731907368,\n",
       " 0.03513864800333977,\n",
       " -0.00970282219350338,\n",
       " -0.09386514872312546,\n",
       " 0.09285550564527512,\n",
       " 0.00800491962581873,\n",
       " -0.007705389987677336,\n",
       " -0.05208674445748329,\n",
       " -0.012587987817823887,\n",
       " 0.00326691847294569,\n",
       " 0.0060135480016469955,\n",
       " 0.0075815594755113125,\n",
       " 0.010517118498682976,\n",
       " -0.08634554594755173,\n",
       " -0.06987877935171127,\n",
       " -0.002533899387344718,\n",
       " -0.09097657352685928,\n",
       " 0.046887367963790894,\n",
       " 0.05207649618387222,\n",
       " 0.007193806115537882,\n",
       " 0.010903654620051384,\n",
       " -0.005229526665061712,\n",
       " 0.013937312178313732,\n",
       " 0.021968312561511993,\n",
       " 0.03420859947800636,\n",
       " 0.060224711894989014,\n",
       " 0.00011667551734717563,\n",
       " 0.014731938019394875,\n",
       " -0.07008925825357437,\n",
       " 0.028499048203229904,\n",
       " -0.027601707726716995,\n",
       " 0.010768460109829903,\n",
       " 0.034830886870622635,\n",
       " -0.022487888112664223,\n",
       " 0.009769026190042496,\n",
       " 0.07722778618335724,\n",
       " 0.021588386967778206,\n",
       " 0.11495620757341385,\n",
       " -0.06800110638141632,\n",
       " 0.023761006072163582,\n",
       " -0.015983883291482925,\n",
       " -0.017826925963163376,\n",
       " 0.06439493596553802,\n",
       " 0.03202570974826813,\n",
       " 0.05027025192975998,\n",
       " -0.005913688801229,\n",
       " -0.03370802477002144,\n",
       " 0.017840296030044556,\n",
       " 0.016573332250118256,\n",
       " 0.06329655647277832,\n",
       " 0.03467720374464989,\n",
       " 0.04647347703576088,\n",
       " 0.0979061871767044,\n",
       " -0.0066355508752167225,\n",
       " 0.02520705573260784,\n",
       " -0.07798831164836884,\n",
       " 0.01692645438015461,\n",
       " -0.0009458299027755857,\n",
       " 0.022471902891993523,\n",
       " -0.03825319930911064,\n",
       " 0.09570474922657013,\n",
       " -0.0053508044220507145,\n",
       " 0.010469086468219757,\n",
       " -0.11524054408073425,\n",
       " -0.013262503780424595,\n",
       " -0.010709397494792938,\n",
       " -0.08311727643013,\n",
       " 0.07327356189489365,\n",
       " 0.049392219632864,\n",
       " -0.008994377218186855,\n",
       " -0.09584559500217438,\n",
       " 3.3661485617505796e-33,\n",
       " 0.12493182718753815,\n",
       " 0.019349727779626846,\n",
       " -0.05822574719786644,\n",
       " -0.035988226532936096,\n",
       " -0.05074676126241684,\n",
       " -0.04566236585378647,\n",
       " -0.08260335773229599,\n",
       " 0.14819476008415222,\n",
       " -0.08842116594314575,\n",
       " 0.06027444452047348,\n",
       " 0.05103016644716263,\n",
       " 0.010303179733455181,\n",
       " 0.14121417701244354,\n",
       " 0.030813850462436676,\n",
       " 0.06103307381272316,\n",
       " -0.052851270884275436,\n",
       " 0.13664889335632324,\n",
       " 0.009189936332404613,\n",
       " -0.017325198277831078,\n",
       " -0.012848656624555588,\n",
       " -0.007995289750397205,\n",
       " -0.05098006874322891,\n",
       " -0.05235067009925842,\n",
       " 0.007593010552227497,\n",
       " -0.015166271477937698,\n",
       " 0.01696034148335457,\n",
       " 0.021270528435707092,\n",
       " 0.020558040589094162,\n",
       " -0.12002812325954437,\n",
       " 0.014461839571595192,\n",
       " 0.0267599169164896,\n",
       " 0.02533068135380745,\n",
       " -0.04275461658835411,\n",
       " 0.006768501829355955,\n",
       " -0.01445856224745512,\n",
       " 0.04526197910308838,\n",
       " -0.09147652983665466,\n",
       " -0.01943911984562874,\n",
       " -0.017833467572927475,\n",
       " -0.054910145699977875,\n",
       " -0.0526411272585392,\n",
       " -0.01045907475054264,\n",
       " -0.052016064524650574,\n",
       " 0.02089197188615799,\n",
       " -0.0799703523516655,\n",
       " -0.012111294083297253,\n",
       " -0.057731445878744125,\n",
       " 0.023178216069936752,\n",
       " -0.008031681180000305,\n",
       " -0.02598932944238186,\n",
       " -0.07995671033859253,\n",
       " -0.020728863775730133,\n",
       " 0.04881769046187401,\n",
       " -0.020389188081026077,\n",
       " -0.04917659983038902,\n",
       " 0.014159644022583961,\n",
       " -0.06362206488847733,\n",
       " -0.0078073772601783276,\n",
       " 0.016431517899036407,\n",
       " -0.025682490319013596,\n",
       " 0.013381149619817734,\n",
       " 0.026248788461089134,\n",
       " 0.00997841451317072,\n",
       " 0.06322887539863586,\n",
       " 0.002672168891876936,\n",
       " -0.0065827216021716595,\n",
       " 0.016631949692964554,\n",
       " 0.03236648440361023,\n",
       " 0.03794248774647713,\n",
       " -0.03637610003352165,\n",
       " -0.006910913623869419,\n",
       " 0.0001596680813236162,\n",
       " -0.0016335482941940427,\n",
       " -0.027278199791908264,\n",
       " -0.028038088232278824,\n",
       " 0.049681488424539566,\n",
       " -0.028867237269878387,\n",
       " -0.00241808476857841,\n",
       " 0.014774847775697708,\n",
       " 0.009764591231942177,\n",
       " 0.005797601770609617,\n",
       " 0.013486167415976524,\n",
       " 0.005567912943661213,\n",
       " 0.03722710534930229,\n",
       " 0.007232502568513155,\n",
       " 0.04015621170401573,\n",
       " 0.08150329440832138,\n",
       " 0.0719916969537735,\n",
       " -0.013056186027824879,\n",
       " -0.042882028967142105,\n",
       " -0.011011210270226002,\n",
       " 0.004897821228951216,\n",
       " -0.009229732677340508,\n",
       " 0.03519150987267494,\n",
       " -0.051035065203905106,\n",
       " -1.571437557856825e-08,\n",
       " -0.08862440288066864,\n",
       " 0.023909345269203186,\n",
       " -0.0162387415766716,\n",
       " 0.0317005030810833,\n",
       " 0.02728423662483692,\n",
       " 0.05246885493397713,\n",
       " -0.047070953994989395,\n",
       " -0.05884746089577675,\n",
       " -0.0632082000374794,\n",
       " 0.040888577699661255,\n",
       " 0.049827925860881805,\n",
       " 0.10655166953802109,\n",
       " -0.0745023861527443,\n",
       " -0.012495428323745728,\n",
       " 0.01837068796157837,\n",
       " 0.03947412595152855,\n",
       " -0.02479792758822441,\n",
       " 0.014516264200210571,\n",
       " -0.0370691753923893,\n",
       " 0.020015768706798553,\n",
       " -4.856145824305713e-05,\n",
       " 0.009866581298410892,\n",
       " 0.02483876794576645,\n",
       " -0.052458155900239944,\n",
       " 0.029314203187823296,\n",
       " -0.08719190955162048,\n",
       " -0.01449974812567234,\n",
       " 0.0260190237313509,\n",
       " -0.018746310845017433,\n",
       " -0.07620514184236526,\n",
       " 0.03504331782460213,\n",
       " 0.10363944619894028,\n",
       " -0.028050504624843597,\n",
       " 0.012718185782432556,\n",
       " -0.07632549852132797,\n",
       " -0.018652383238077164,\n",
       " 0.024976715445518494,\n",
       " 0.08144532144069672,\n",
       " 0.06875886023044586,\n",
       " -0.0640566349029541,\n",
       " -0.08389384299516678,\n",
       " 0.06136239692568779,\n",
       " -0.03354553505778313,\n",
       " -0.10615336149930954,\n",
       " -0.040080536156892776,\n",
       " 0.03253019228577614,\n",
       " 0.07662486284971237,\n",
       " -0.0730162188410759,\n",
       " 0.00033756825723685324,\n",
       " -0.040871623903512955,\n",
       " -0.0757884755730629,\n",
       " 0.027527663856744766,\n",
       " 0.0746254250407219,\n",
       " 0.017717262730002403,\n",
       " 0.0912184789776802,\n",
       " 0.11022017151117325,\n",
       " 0.0005697783199138939,\n",
       " 0.05146336182951927,\n",
       " -0.014551319181919098,\n",
       " 0.033232059329748154,\n",
       " 0.023792307823896408,\n",
       " -0.02288985252380371,\n",
       " 0.03893749415874481,\n",
       " 0.03020681068301201]"
      ]
     },
     "execution_count": 26,
     "metadata": {},
     "output_type": "execute_result"
    }
   ],
   "source": [
    "query_result = embeddings.embed_query(\"Hello world\")\n",
    "print(\"Length\", len(query_result))\n",
    "\n",
    "query_result"
   ]
  },
  {
   "cell_type": "code",
   "execution_count": 27,
   "metadata": {},
   "outputs": [
    {
     "data": {
      "text/plain": [
       "False"
      ]
     },
     "execution_count": 27,
     "metadata": {},
     "output_type": "execute_result"
    }
   ],
   "source": [
    "from dotenv import load_dotenv\n",
    "load_dotenv()"
   ]
  },
  {
   "cell_type": "code",
   "execution_count": 40,
   "metadata": {},
   "outputs": [],
   "source": [
    "import os\n",
    "PINECONE_API_KEY=os.environ.get('PINECONE_API_KEY')\n",
    "OPENAI_API_KEY=os.environ.get('OPENAI_API_KEY')"
   ]
  },
  {
   "cell_type": "code",
   "execution_count": 42,
   "metadata": {},
   "outputs": [],
   "source": [
    "from dotenv import load_dotenv\n",
    "import os\n",
    "\n",
    "# Load environment variables from .env file\n",
    "load_dotenv()\n",
    "\n",
    "PINECONE_API_KEY = os.getenv(\"PINECONE_API_KEY\")\n",
    "OPENAI_API_KEY = os.getenv(\"OPENAI_API_KEY\")\n",
    "\n",
    "if not PINECONE_API_KEY:\n",
    "    raise ValueError(\"PINECONE_API_KEY is not set.\")\n"
   ]
  },
  {
   "cell_type": "code",
   "execution_count": 43,
   "metadata": {},
   "outputs": [],
   "source": [
    "from pinecone.grpc import PineconeGRPC as Pinecone\n",
    "from pinecone import ServerlessSpec\n",
    "\n",
    "pc = Pinecone(api_key=PINECONE_API_KEY)\n",
    "\n",
    "index_name = \"medicalbot\"\n",
    "\n",
    "\n",
    "pc.create_index(\n",
    "    name=index_name,\n",
    "    dimension=384, \n",
    "    metric=\"cosine\", \n",
    "    spec=ServerlessSpec(\n",
    "        cloud=\"aws\", \n",
    "        region=\"us-east-1\"\n",
    "    ) \n",
    ") "
   ]
  },
  {
   "cell_type": "code",
   "execution_count": 44,
   "metadata": {},
   "outputs": [],
   "source": [
    "import os\n",
    "os.environ[\"PINECONE_API_KEY\"] = PINECONE_API_KEY\n",
    "os.environ[\"OPENAI_API_KEY\"] = OPENAI_API_KEY"
   ]
  },
  {
   "cell_type": "code",
   "execution_count": 46,
   "metadata": {},
   "outputs": [],
   "source": [
    "from langchain.vectorstores import Pinecone\n",
    "from langchain.embeddings import HuggingFaceEmbeddings\n",
    "from langchain.document_loaders import TextLoader\n",
    "\n",
    "# Initialize the embedding and Pinecone vector store\n",
    "embeddings = HuggingFaceEmbeddings(model_name=\"sentence-transformers/all-MiniLM-L6-v2\")\n",
    "docsearch = Pinecone.from_documents(\n",
    "    documents=text_chunks,\n",
    "    index_name=index_name,\n",
    "    embedding=embeddings,\n",
    ")\n"
   ]
  },
  {
   "cell_type": "code",
   "execution_count": 50,
   "metadata": {},
   "outputs": [
    {
     "data": {
      "text/plain": [
       "<langchain_community.vectorstores.pinecone.Pinecone at 0x2288244dad0>"
      ]
     },
     "execution_count": 50,
     "metadata": {},
     "output_type": "execute_result"
    }
   ],
   "source": [
    "# Load Existing index \n",
    "\n",
    "from langchain.vectorstores import Pinecone\n",
    "# Embed each chunk and upsert the embeddings into your Pinecone index.\n",
    "docsearch = Pinecone.from_existing_index(\n",
    "    index_name=index_name,\n",
    "    embedding=embeddings\n",
    ")\n",
    "docsearch"
   ]
  },
  {
   "cell_type": "code",
   "execution_count": 51,
   "metadata": {},
   "outputs": [],
   "source": [
    "retriever = docsearch.as_retriever(search_type=\"similarity\", search_kwargs={\"k\":3})"
   ]
  },
  {
   "cell_type": "code",
   "execution_count": 52,
   "metadata": {},
   "outputs": [
    {
     "data": {
      "text/plain": [
       "[Document(metadata={'page': 39.0, 'source': 'Data\\\\Medical_book.pdf'}, page_content='GALE ENCYCLOPEDIA OF MEDICINE 226\\nAcne\\nGEM - 0001 to 0432 - A  10/22/03 1:41 PM  Page 26'),\n",
       " Document(metadata={'page': 38.0, 'source': 'Data\\\\Medical_book.pdf'}, page_content='GALE ENCYCLOPEDIA OF MEDICINE 2 25\\nAcne\\nAcne vulgaris affecting a woman’s face. Acne is the general\\nname given to a skin disorder in which the sebaceous\\nglands become inflamed.(Photograph by Biophoto Associ-\\nates, Photo Researchers, Inc. Reproduced by permission.)\\nGEM - 0001 to 0432 - A  10/22/03 1:41 PM  Page 25'),\n",
       " Document(metadata={'page': 37.0, 'source': 'Data\\\\Medical_book.pdf'}, page_content='Acidosis see Respiratory acidosis; Renal\\ntubular acidosis; Metabolic acidosis\\nAcne\\nDefinition\\nAcne is a common skin disease characterized by\\npimples on the face, chest, and back. It occurs when the\\npores of the skin become clogged with oil, dead skin\\ncells, and bacteria.\\nDescription\\nAcne vulgaris, the medical term for common acne, is\\nthe most common skin disease. It affects nearly 17 million\\npeople in the United States. While acne can arise at any')]"
      ]
     },
     "execution_count": 52,
     "metadata": {},
     "output_type": "execute_result"
    }
   ],
   "source": [
    "retrieved_docs = retriever.invoke(\"What is Acne?\")\n",
    "retrieved_docs"
   ]
  },
  {
   "cell_type": "code",
   "execution_count": 58,
   "metadata": {},
   "outputs": [],
   "source": [
    "from langchain_openai import OpenAI\n",
    "llm = OpenAI(temperature=0.4, max_tokens=500)"
   ]
  },
  {
   "cell_type": "code",
   "execution_count": 59,
   "metadata": {},
   "outputs": [
    {
     "name": "stdout",
     "output_type": "stream",
     "text": [
      "gpt-3.5-turbo-instruct\n"
     ]
    }
   ],
   "source": [
    "print(llm.model_name)"
   ]
  },
  {
   "cell_type": "code",
   "execution_count": 60,
   "metadata": {},
   "outputs": [],
   "source": [
    "from langchain.chains import create_retrieval_chain\n",
    "from langchain.chains.combine_documents import create_stuff_documents_chain\n",
    "from langchain_core.prompts import ChatPromptTemplate\n",
    "\n",
    "\n",
    "system_prompt = (\n",
    "    \"You are an assistant for question-answering tasks. \"\n",
    "    \"Use the following pieces of retrieved context to answer \"\n",
    "    \"the question. If you don't know the answer, say that you \"\n",
    "    \"don't know. Use three sentences maximum and keep the \"\n",
    "    \"answer concise.\"\n",
    "    \"\\n\\n\"\n",
    "    \"{context}\"\n",
    ")\n",
    "\n",
    "\n",
    "prompt = ChatPromptTemplate.from_messages(\n",
    "    [\n",
    "        (\"system\", system_prompt),\n",
    "        (\"human\", \"{input}\"),\n",
    "    ]\n",
    ")"
   ]
  },
  {
   "cell_type": "code",
   "execution_count": 61,
   "metadata": {},
   "outputs": [],
   "source": [
    "question_answer_chain = create_stuff_documents_chain(llm, prompt)\n",
    "rag_chain = create_retrieval_chain(retriever, question_answer_chain)"
   ]
  },
  {
   "cell_type": "code",
   "execution_count": 62,
   "metadata": {},
   "outputs": [
    {
     "name": "stdout",
     "output_type": "stream",
     "text": [
      "\n",
      "\n",
      "Acromegaly and gigantism are disorders caused by the abnormal release of a chemical from the pituitary gland in the brain, resulting in increased growth in bone and soft tissue and other disturbances throughout the body. They are relatively rare disorders, affecting both men and women, and are often not diagnosed until middle age due to the gradual onset of symptoms. They can result in unusual height and other physical changes.\n"
     ]
    }
   ],
   "source": [
    "response = rag_chain.invoke({\"input\": \"what is Acromegaly and gigantism?\"})\n",
    "print(response[\"answer\"])"
   ]
  },
  {
   "cell_type": "code",
   "execution_count": null,
   "metadata": {},
   "outputs": [],
   "source": []
  }
 ],
 "metadata": {
  "kernelspec": {
   "display_name": "Python (medibot)",
   "language": "python",
   "name": "medibot"
  },
  "language_info": {
   "codemirror_mode": {
    "name": "ipython",
    "version": 3
   },
   "file_extension": ".py",
   "mimetype": "text/x-python",
   "name": "python",
   "nbconvert_exporter": "python",
   "pygments_lexer": "ipython3",
   "version": "3.11.10"
  }
 },
 "nbformat": 4,
 "nbformat_minor": 2
}
